{
 "cells": [
  {
   "cell_type": "markdown",
   "id": "4447b1d8",
   "metadata": {},
   "source": [
    "# Introduction"
   ]
  },
  {
   "cell_type": "markdown",
   "id": "5b54d3b9",
   "metadata": {},
   "source": [
    "L'objectif de ce notebook est de construire un modèle permettant de prédire la variable `TotalGHGEmissions`.\n",
    "\n",
    "La démarche est très similaire avec celle mise en place pour `SiteEnergyUseWN(kBtu)` car les deux variables sont très corrélées.<br>\n",
    "On ira présentera donc cette fois directement l'essentiel : un préprocesseur efficace et d'une sélection de features pertinente.<br>\n",
    "Quelques itérations ont tout de même été nécessaires pour vérifier qu'il s'agissait bien d'une solution optimale."
   ]
  },
  {
   "cell_type": "code",
   "execution_count": 33,
   "id": "67d2d4a7",
   "metadata": {},
   "outputs": [],
   "source": [
    "import numpy as np\n",
    "import pandas as pd\n",
    "import matplotlib.pyplot as plt\n",
    "\n",
    "from sklearn.base import BaseEstimator, TransformerMixin\n",
    "from sklearn.pipeline import Pipeline, make_pipeline\n",
    "from sklearn.compose import ColumnTransformer, make_column_transformer, TransformedTargetRegressor\n",
    "\n",
    "from sklearn.impute import SimpleImputer\n",
    "from sklearn.preprocessing import StandardScaler, OrdinalEncoder, OneHotEncoder, TargetEncoder, FunctionTransformer\n",
    "\n",
    "from sklearn.linear_model import LinearRegression, ElasticNet\n",
    "from sklearn.ensemble import GradientBoostingRegressor, RandomForestRegressor\n",
    "from sklearn.svm import SVR\n",
    "from xgboost import XGBRegressor\n",
    "from lightgbm import LGBMRegressor\n",
    "\n",
    "from sklearn.model_selection import train_test_split, GridSearchCV\n",
    "from sklearn.metrics import mean_squared_error, mean_absolute_error, r2_score\n",
    "\n",
    "import time\n",
    "import shap\n",
    "\n",
    "import warnings\n",
    "warnings.filterwarnings(\"ignore\")\n",
    "\n",
    "from sklearn.preprocessing import RobustScaler\n",
    "from category_encoders import TargetEncoder as MeanEncoder\n",
    "from sklearn.model_selection import cross_val_score"
   ]
  },
  {
   "cell_type": "code",
   "execution_count": 34,
   "id": "1ebb7a08",
   "metadata": {},
   "outputs": [],
   "source": [
    "data = pd.read_csv(\"csv/filtered_data.csv\")\n",
    "\n",
    "df = data.drop(\"SiteEnergyUseWN(kBtu)\", axis = 1)\n",
    "target = \"TotalGHGEmissions\""
   ]
  },
  {
   "cell_type": "code",
   "execution_count": 35,
   "id": "74eaa941",
   "metadata": {},
   "outputs": [
    {
     "name": "stdout",
     "output_type": "stream",
     "text": [
      "Dimensions du dataset :\n",
      "  - 1621 lignes\n",
      "  - 26 colonnes\n"
     ]
    }
   ],
   "source": [
    "def display_dimensions(df) :\n",
    "    print(f\"Dimensions du dataset :\")\n",
    "    print(\"  -\", df.shape[0], \"lignes\")\n",
    "    print(\"  -\", df.shape[1], \"colonnes\")\n",
    "    \n",
    "display_dimensions(df)"
   ]
  },
  {
   "cell_type": "markdown",
   "id": "f13f4be1",
   "metadata": {},
   "source": [
    "# Modélisation"
   ]
  },
  {
   "cell_type": "code",
   "execution_count": 36,
   "id": "b6ce4d11",
   "metadata": {},
   "outputs": [],
   "source": [
    "models = {\n",
    "    \"Linear Regression\" : LinearRegression(),\n",
    "    \"Gradient Boost\" : GradientBoostingRegressor(),\n",
    "    \"Random Forest\" : RandomForestRegressor(),\n",
    "    \"SVR\" : SVR(),\n",
    "    \"Elastic Net\" : ElasticNet(),\n",
    "    \"XGBoost\": XGBRegressor(),\n",
    "    \"LightGBM\": LGBMRegressor(verbosity = 0)\n",
    "}"
   ]
  },
  {
   "cell_type": "code",
   "execution_count": 37,
   "id": "caa1bf5c",
   "metadata": {},
   "outputs": [],
   "source": [
    "def cross_evaluate(model_name, model, preprocessor, X, y) :\n",
    "    \n",
    "    pipeline = Pipeline(steps = [\n",
    "        (\"preprocessor\", preprocessor),\n",
    "        (model_name, model)\n",
    "    ])\n",
    "\n",
    "    start_time = time.time()\n",
    "    scores = cross_val_score(pipeline, X, y, cv = 5, scoring = \"r2\", n_jobs = -1)\n",
    "    cv_time = time.time() - start_time\n",
    "\n",
    "    result = {\"Model\" : model_name,\n",
    "                \"Time\" : str(round(cv_time * 1000)) + \" ms\",\n",
    "                \"Score\" : round(np.mean(scores), 4)}\n",
    "        \n",
    "    for i in range(5) :\n",
    "        result[\"Fold_\" + str(i + 1)] = round(scores[i], 4)\n",
    "        \n",
    "    return result"
   ]
  },
  {
   "cell_type": "code",
   "execution_count": 38,
   "id": "2709c9d5",
   "metadata": {},
   "outputs": [],
   "source": [
    "def cross_evaluate_all(models, preprocessor, X, y, log_target = False) :\n",
    "    \n",
    "    results = []\n",
    "    \n",
    "    for model_name, model in models.items() :\n",
    "    \n",
    "        if log_target :\n",
    "            model = TransformedTargetRegressor(\n",
    "                regressor = model,\n",
    "                transformer = FunctionTransformer(func = np.log1p, inverse_func = np.expm1),\n",
    "            )\n",
    "        \n",
    "        results.append(cross_evaluate(model_name, model, preprocessor, X, y))\n",
    "        \n",
    "    return pd.DataFrame(results).set_index(\"Model\")"
   ]
  },
  {
   "cell_type": "code",
   "execution_count": 39,
   "id": "ccfafe4f",
   "metadata": {},
   "outputs": [],
   "source": [
    "median_imputer_features = ['PropertyGFATotal', 'PropertyGFABuilding(s)',\n",
    "                           'Longitude', 'Latitude', 'LargestPropertyUseTypeGFA']\n",
    "\n",
    "zero_filler_features = ['GasRatio', 'ElectricityRatio', 'SteamRatio',\n",
    "                        'SecondLargestPropertyUseTypeGFA']\n",
    "\n",
    "target_encoder_features = ['PrimaryPropertyType', 'CouncilDistrictCode', 'NumberofFloors', 'NumberofBuildings',\n",
    "                           'LargestPropertyUseType', 'SecondLargestPropertyUseType']\n",
    "\n",
    "zero_filler = make_pipeline(SimpleImputer(strategy = \"constant\", fill_value = 0), RobustScaler())\n",
    "\n",
    "median_imputer = make_pipeline(SimpleImputer(strategy = \"median\"), RobustScaler())\n",
    "\n",
    "target_encoder = make_pipeline(SimpleImputer(strategy = \"constant\", fill_value = \"None\"), TargetEncoder(), RobustScaler())\n",
    "\n",
    "preprocessor = ColumnTransformer(transformers = [\n",
    "    (\"median_imputer\", median_imputer, median_imputer_features),\n",
    "    (\"zero_filler\", zero_filler, zero_filler_features),\n",
    "    (\"target_encoder\", target_encoder, target_encoder_features)\n",
    "])"
   ]
  },
  {
   "cell_type": "code",
   "execution_count": 40,
   "id": "a8ba3533",
   "metadata": {},
   "outputs": [
    {
     "data": {
      "text/html": [
       "<div>\n",
       "<style scoped>\n",
       "    .dataframe tbody tr th:only-of-type {\n",
       "        vertical-align: middle;\n",
       "    }\n",
       "\n",
       "    .dataframe tbody tr th {\n",
       "        vertical-align: top;\n",
       "    }\n",
       "\n",
       "    .dataframe thead th {\n",
       "        text-align: right;\n",
       "    }\n",
       "</style>\n",
       "<table border=\"1\" class=\"dataframe\">\n",
       "  <thead>\n",
       "    <tr style=\"text-align: right;\">\n",
       "      <th></th>\n",
       "      <th>Time</th>\n",
       "      <th>Score</th>\n",
       "      <th>Fold_1</th>\n",
       "      <th>Fold_2</th>\n",
       "      <th>Fold_3</th>\n",
       "      <th>Fold_4</th>\n",
       "      <th>Fold_5</th>\n",
       "    </tr>\n",
       "    <tr>\n",
       "      <th>Model</th>\n",
       "      <th></th>\n",
       "      <th></th>\n",
       "      <th></th>\n",
       "      <th></th>\n",
       "      <th></th>\n",
       "      <th></th>\n",
       "      <th></th>\n",
       "    </tr>\n",
       "  </thead>\n",
       "  <tbody>\n",
       "    <tr>\n",
       "      <th>Linear Regression</th>\n",
       "      <td>58 ms</td>\n",
       "      <td>0.2668</td>\n",
       "      <td>0.3995</td>\n",
       "      <td>0.5418</td>\n",
       "      <td>0.1881</td>\n",
       "      <td>0.5485</td>\n",
       "      <td>-0.3438</td>\n",
       "    </tr>\n",
       "    <tr>\n",
       "      <th>Gradient Boost</th>\n",
       "      <td>1009 ms</td>\n",
       "      <td>0.7486</td>\n",
       "      <td>0.5330</td>\n",
       "      <td>0.8581</td>\n",
       "      <td>0.7660</td>\n",
       "      <td>0.8356</td>\n",
       "      <td>0.7502</td>\n",
       "    </tr>\n",
       "    <tr>\n",
       "      <th>Random Forest</th>\n",
       "      <td>3884 ms</td>\n",
       "      <td>0.6920</td>\n",
       "      <td>0.5352</td>\n",
       "      <td>0.8021</td>\n",
       "      <td>0.8081</td>\n",
       "      <td>0.8214</td>\n",
       "      <td>0.4935</td>\n",
       "    </tr>\n",
       "    <tr>\n",
       "      <th>SVR</th>\n",
       "      <td>178 ms</td>\n",
       "      <td>-0.0027</td>\n",
       "      <td>-0.0694</td>\n",
       "      <td>-0.0097</td>\n",
       "      <td>0.0383</td>\n",
       "      <td>0.0395</td>\n",
       "      <td>-0.0122</td>\n",
       "    </tr>\n",
       "    <tr>\n",
       "      <th>Elastic Net</th>\n",
       "      <td>58 ms</td>\n",
       "      <td>0.4724</td>\n",
       "      <td>0.2915</td>\n",
       "      <td>0.5042</td>\n",
       "      <td>0.5081</td>\n",
       "      <td>0.6891</td>\n",
       "      <td>0.3694</td>\n",
       "    </tr>\n",
       "    <tr>\n",
       "      <th>XGBoost</th>\n",
       "      <td>342 ms</td>\n",
       "      <td>0.7357</td>\n",
       "      <td>0.7077</td>\n",
       "      <td>0.9108</td>\n",
       "      <td>0.7815</td>\n",
       "      <td>0.8471</td>\n",
       "      <td>0.4314</td>\n",
       "    </tr>\n",
       "    <tr>\n",
       "      <th>LightGBM</th>\n",
       "      <td>527 ms</td>\n",
       "      <td>0.6089</td>\n",
       "      <td>0.2746</td>\n",
       "      <td>0.5860</td>\n",
       "      <td>0.8049</td>\n",
       "      <td>0.7791</td>\n",
       "      <td>0.5999</td>\n",
       "    </tr>\n",
       "  </tbody>\n",
       "</table>\n",
       "</div>"
      ],
      "text/plain": [
       "                      Time   Score  Fold_1  Fold_2  Fold_3  Fold_4  Fold_5\n",
       "Model                                                                     \n",
       "Linear Regression    58 ms  0.2668  0.3995  0.5418  0.1881  0.5485 -0.3438\n",
       "Gradient Boost     1009 ms  0.7486  0.5330  0.8581  0.7660  0.8356  0.7502\n",
       "Random Forest      3884 ms  0.6920  0.5352  0.8021  0.8081  0.8214  0.4935\n",
       "SVR                 178 ms -0.0027 -0.0694 -0.0097  0.0383  0.0395 -0.0122\n",
       "Elastic Net          58 ms  0.4724  0.2915  0.5042  0.5081  0.6891  0.3694\n",
       "XGBoost             342 ms  0.7357  0.7077  0.9108  0.7815  0.8471  0.4314\n",
       "LightGBM            527 ms  0.6089  0.2746  0.5860  0.8049  0.7791  0.5999"
      ]
     },
     "execution_count": 40,
     "metadata": {},
     "output_type": "execute_result"
    }
   ],
   "source": [
    "selected_features = median_imputer_features + zero_filler_features + target_encoder_features\n",
    "\n",
    "X = df[selected_features].copy()\n",
    "y = df[target].copy()\n",
    "\n",
    "cross_evaluate_all(models, preprocessor, X, y)"
   ]
  },
  {
   "cell_type": "markdown",
   "id": "ab4eae3a",
   "metadata": {},
   "source": [
    "Il était demandé dans le projet de déterminer l'impact de l'ENERGYSTARScore."
   ]
  },
  {
   "cell_type": "code",
   "execution_count": 41,
   "id": "d2e701d4",
   "metadata": {},
   "outputs": [
    {
     "data": {
      "text/html": [
       "<div>\n",
       "<style scoped>\n",
       "    .dataframe tbody tr th:only-of-type {\n",
       "        vertical-align: middle;\n",
       "    }\n",
       "\n",
       "    .dataframe tbody tr th {\n",
       "        vertical-align: top;\n",
       "    }\n",
       "\n",
       "    .dataframe thead th {\n",
       "        text-align: right;\n",
       "    }\n",
       "</style>\n",
       "<table border=\"1\" class=\"dataframe\">\n",
       "  <thead>\n",
       "    <tr style=\"text-align: right;\">\n",
       "      <th></th>\n",
       "      <th>Time</th>\n",
       "      <th>Score</th>\n",
       "      <th>Fold_1</th>\n",
       "      <th>Fold_2</th>\n",
       "      <th>Fold_3</th>\n",
       "      <th>Fold_4</th>\n",
       "      <th>Fold_5</th>\n",
       "    </tr>\n",
       "    <tr>\n",
       "      <th>Model</th>\n",
       "      <th></th>\n",
       "      <th></th>\n",
       "      <th></th>\n",
       "      <th></th>\n",
       "      <th></th>\n",
       "      <th></th>\n",
       "      <th></th>\n",
       "    </tr>\n",
       "  </thead>\n",
       "  <tbody>\n",
       "    <tr>\n",
       "      <th>Linear Regression</th>\n",
       "      <td>93 ms</td>\n",
       "      <td>0.2932</td>\n",
       "      <td>0.4147</td>\n",
       "      <td>0.5420</td>\n",
       "      <td>0.1826</td>\n",
       "      <td>0.5089</td>\n",
       "      <td>-0.1820</td>\n",
       "    </tr>\n",
       "    <tr>\n",
       "      <th>Gradient Boost</th>\n",
       "      <td>1085 ms</td>\n",
       "      <td>0.7475</td>\n",
       "      <td>0.6194</td>\n",
       "      <td>0.8516</td>\n",
       "      <td>0.7375</td>\n",
       "      <td>0.8077</td>\n",
       "      <td>0.7213</td>\n",
       "    </tr>\n",
       "    <tr>\n",
       "      <th>Random Forest</th>\n",
       "      <td>3994 ms</td>\n",
       "      <td>0.6923</td>\n",
       "      <td>0.4921</td>\n",
       "      <td>0.7755</td>\n",
       "      <td>0.8464</td>\n",
       "      <td>0.7746</td>\n",
       "      <td>0.5728</td>\n",
       "    </tr>\n",
       "    <tr>\n",
       "      <th>SVR</th>\n",
       "      <td>181 ms</td>\n",
       "      <td>0.0046</td>\n",
       "      <td>-0.0709</td>\n",
       "      <td>-0.0129</td>\n",
       "      <td>0.0471</td>\n",
       "      <td>0.0389</td>\n",
       "      <td>0.0208</td>\n",
       "    </tr>\n",
       "    <tr>\n",
       "      <th>Elastic Net</th>\n",
       "      <td>47 ms</td>\n",
       "      <td>0.4651</td>\n",
       "      <td>0.3065</td>\n",
       "      <td>0.5200</td>\n",
       "      <td>0.5130</td>\n",
       "      <td>0.6632</td>\n",
       "      <td>0.3228</td>\n",
       "    </tr>\n",
       "    <tr>\n",
       "      <th>XGBoost</th>\n",
       "      <td>379 ms</td>\n",
       "      <td>0.7646</td>\n",
       "      <td>0.6331</td>\n",
       "      <td>0.8997</td>\n",
       "      <td>0.7924</td>\n",
       "      <td>0.8663</td>\n",
       "      <td>0.6313</td>\n",
       "    </tr>\n",
       "    <tr>\n",
       "      <th>LightGBM</th>\n",
       "      <td>460 ms</td>\n",
       "      <td>0.6002</td>\n",
       "      <td>0.2754</td>\n",
       "      <td>0.5923</td>\n",
       "      <td>0.7649</td>\n",
       "      <td>0.8094</td>\n",
       "      <td>0.5587</td>\n",
       "    </tr>\n",
       "  </tbody>\n",
       "</table>\n",
       "</div>"
      ],
      "text/plain": [
       "                      Time   Score  Fold_1  Fold_2  Fold_3  Fold_4  Fold_5\n",
       "Model                                                                     \n",
       "Linear Regression    93 ms  0.2932  0.4147  0.5420  0.1826  0.5089 -0.1820\n",
       "Gradient Boost     1085 ms  0.7475  0.6194  0.8516  0.7375  0.8077  0.7213\n",
       "Random Forest      3994 ms  0.6923  0.4921  0.7755  0.8464  0.7746  0.5728\n",
       "SVR                 181 ms  0.0046 -0.0709 -0.0129  0.0471  0.0389  0.0208\n",
       "Elastic Net          47 ms  0.4651  0.3065  0.5200  0.5130  0.6632  0.3228\n",
       "XGBoost             379 ms  0.7646  0.6331  0.8997  0.7924  0.8663  0.6313\n",
       "LightGBM            460 ms  0.6002  0.2754  0.5923  0.7649  0.8094  0.5587"
      ]
     },
     "execution_count": 41,
     "metadata": {},
     "output_type": "execute_result"
    }
   ],
   "source": [
    "median_imputer_features.append(\"ENERGYSTARScore\")\n",
    "selected_features.append(\"ENERGYSTARScore\")\n",
    "\n",
    "X = df[selected_features].copy()\n",
    "y = df[target].copy()\n",
    "\n",
    "cross_evaluate_all(models, preprocessor, X, y)"
   ]
  },
  {
   "cell_type": "markdown",
   "id": "984b17a3",
   "metadata": {},
   "source": [
    "Les résultats sont sensiblement identiques avec ou sans l'ENERGYSTARScore.<br>\n",
    "S'il est fastidieux à obtenir sur le terrain, autant s'en passer."
   ]
  },
  {
   "cell_type": "markdown",
   "id": "0999b3f9",
   "metadata": {},
   "source": [
    "# Recherche d'hyperparamètres"
   ]
  },
  {
   "cell_type": "code",
   "execution_count": 42,
   "id": "e44028d9",
   "metadata": {},
   "outputs": [],
   "source": [
    "def grid_search(model, preprocessor, param_grid, X, y, verbose = 0) :\n",
    "       \n",
    "    pipeline = make_pipeline(preprocessor, RobustScaler(), model)\n",
    "    grid_search = GridSearchCV(estimator = pipeline, param_grid = param_grid, scoring = \"r2\", cv = 10, verbose = verbose)\n",
    "    results = grid_search.fit(X, y)\n",
    "\n",
    "    best_params = grid_search.best_params_\n",
    "    best_model = grid_search.best_estimator_\n",
    "      \n",
    "    print(\"\\n--- Hyperparamètres ---\")\n",
    "    for (param, value) in best_params.items() :\n",
    "        print(param, \":\", value)\n",
    "        \n",
    "    return best_model"
   ]
  },
  {
   "cell_type": "code",
   "execution_count": 20,
   "id": "c2850203",
   "metadata": {},
   "outputs": [
    {
     "name": "stdout",
     "output_type": "stream",
     "text": [
      "Fitting 10 folds for each of 18 candidates, totalling 180 fits\n",
      "\n",
      "--- Hyperparamètres ---\n",
      "randomforestregressor__bootstrap : False\n",
      "randomforestregressor__max_features : 4\n",
      "randomforestregressor__min_samples_split : 2\n",
      "randomforestregressor__n_estimators : 200\n"
     ]
    }
   ],
   "source": [
    "param_grid = {\"randomforestregressor__n_estimators\" : [200],\n",
    "              \"randomforestregressor__max_features\" : [2, 4, 6],\n",
    "              \"randomforestregressor__min_samples_split\" : [2, 4, 8],\n",
    "              \"randomforestregressor__bootstrap\": [True, False]}\n",
    "\n",
    "best_model = grid_search(RandomForestRegressor(n_jobs = -1), preprocessor, param_grid, X, y, verbose = 1)"
   ]
  },
  {
   "cell_type": "code",
   "execution_count": 43,
   "id": "d482c4c5",
   "metadata": {},
   "outputs": [
    {
     "name": "stdout",
     "output_type": "stream",
     "text": [
      "Random Forest average score : 0.7170618349512905\n"
     ]
    }
   ],
   "source": [
    "pipeline_rf = Pipeline(steps = [\n",
    "    (\"preprocessor\", preprocessor),\n",
    "    (\"rf\", RandomForestRegressor(n_jobs = -1,\n",
    "                                 bootstrap = False,\n",
    "                                 max_features = 4,\n",
    "                                 min_samples_split = 2,\n",
    "                                 n_estimators = 1000))\n",
    "])\n",
    "\n",
    "scores_rg = cross_val_score(pipeline_rf, X, y, cv = 5, scoring = \"r2\", n_jobs = -1)\n",
    "print(\"Random Forest average score :\", np.mean(scores_rg))"
   ]
  },
  {
   "cell_type": "code",
   "execution_count": 13,
   "id": "47155eb1",
   "metadata": {},
   "outputs": [
    {
     "name": "stdout",
     "output_type": "stream",
     "text": [
      "Fitting 10 folds for each of 27 candidates, totalling 270 fits\n",
      "\n",
      "--- Hyperparamètres ---\n",
      "gradientboostingregressor__learning_rate : 0.2\n",
      "gradientboostingregressor__max_depth : 3\n",
      "gradientboostingregressor__n_estimators : 100\n"
     ]
    }
   ],
   "source": [
    "param_grid = {\"gradientboostingregressor__n_estimators\" : [50, 100, 200],\n",
    "              \"gradientboostingregressor__learning_rate\" : [0.05, 0.1, 0.2],\n",
    "              \"gradientboostingregressor__max_depth\" : [3, 4, 5]}\n",
    "\n",
    "best_model = grid_search(GradientBoostingRegressor(), preprocessor, param_grid, X, y, verbose = 1)"
   ]
  },
  {
   "cell_type": "code",
   "execution_count": 44,
   "id": "70a77b9c",
   "metadata": {},
   "outputs": [
    {
     "name": "stdout",
     "output_type": "stream",
     "text": [
      "Gradient Boost average score : 0.7386727317621725\n"
     ]
    }
   ],
   "source": [
    "pipeline_gb = Pipeline(steps = [\n",
    "    (\"preprocessor\", preprocessor),\n",
    "    (\"gb\", GradientBoostingRegressor(n_estimators = 1000,\n",
    "                                      learning_rate = 0.2,\n",
    "                                      max_depth = 3))\n",
    "])\n",
    "\n",
    "scores_gb = cross_val_score(pipeline_gb, df, y, cv = 5, scoring = \"r2\", n_jobs = -1)\n",
    "print(\"Gradient Boost average score :\", np.mean(scores_gb))"
   ]
  },
  {
   "cell_type": "markdown",
   "id": "6e197ec5",
   "metadata": {},
   "source": [
    "Cette fois c'est le Gradient Boost qui obtient un score légèrement meilleur : on le choisit comme modèle final."
   ]
  },
  {
   "cell_type": "markdown",
   "id": "c1626b92",
   "metadata": {},
   "source": [
    "# Feature importance"
   ]
  },
  {
   "cell_type": "markdown",
   "id": "729ece43",
   "metadata": {},
   "source": [
    "Maintenant que le modèle final est prêt, on l'entraîne le sur un jeu d'entraînement puis on prédit sur un jeu de test afin d'accéder à la feature importance."
   ]
  },
  {
   "cell_type": "code",
   "execution_count": 50,
   "id": "f90c37db",
   "metadata": {},
   "outputs": [],
   "source": [
    "def get_feature_names(column_transformer) :\n",
    "    \n",
    "    def get_names(trans) :\n",
    "        if trans == 'drop' or (\n",
    "                hasattr(column, '__len__') and not len(column)) :\n",
    "            return []\n",
    "        if trans == 'passthrough' :\n",
    "            if hasattr(column_transformer, '_df_columns') :\n",
    "                if ((not isinstance(column, slice))\n",
    "                        and all(isinstance(col, str) for col in column)) :\n",
    "                    return column\n",
    "                else :\n",
    "                    return column_transformer._df_columns[column]\n",
    "            else :\n",
    "                indices = np.arange(column_transformer._n_features)\n",
    "                return ['x%d' % i for i in indices[column]]\n",
    "        if not hasattr(trans, 'get_feature_names') :\n",
    "            warnings.warn(\"Transformer %s (type %s) does not \"\n",
    "                                 \"provide get_feature_names. \"\n",
    "                                 \"Will return input column names if available\"\n",
    "                                 % (str(name), type(trans).__name__))\n",
    "            if column is None :\n",
    "                return []\n",
    "            else:\n",
    "                return [name + \"__\" + f for f in column]\n",
    "\n",
    "        return [str(name) + \"__\" + str(f) for f in trans.get_feature_names()]\n",
    "    \n",
    "    # Début du prétraitement\n",
    "    feature_names = []\n",
    "    if type(column_transformer) == Pipeline :\n",
    "        l_transformers = [(name, trans, None, None) for step, name, trans in column_transformer._iter()]\n",
    "    else :\n",
    "        l_transformers = list(column_transformer._iter(fitted=True))\n",
    "    \n",
    "    for name, trans, column, _ in l_transformers :\n",
    "        if type(trans) == Pipeline :\n",
    "            _names = get_feature_names(trans)\n",
    "            if len(_names) == 0 :\n",
    "                _names = [name + \"__\" + f for f in column]\n",
    "            feature_names.extend(_names)\n",
    "        else :\n",
    "            feature_names.extend(get_names(trans))\n",
    "    \n",
    "    return feature_names"
   ]
  },
  {
   "cell_type": "code",
   "execution_count": 51,
   "id": "e2e6db30",
   "metadata": {},
   "outputs": [],
   "source": [
    "X_train, X_test, y_train, y_test = train_test_split(X, y, test_size = 0.2, random_state = 42)\n",
    "\n",
    "gbr = GradientBoostingRegressor(n_estimators = 1000, learning_rate = 0.2, max_depth = 3)\n",
    "pipeline = make_pipeline(preprocessor, gbr)\n",
    "pipeline.fit(X_train, y_train)\n",
    "\n",
    "feature_importances = gbr.feature_importances_\n",
    "indices = (-feature_importances).argsort()"
   ]
  },
  {
   "cell_type": "code",
   "execution_count": 52,
   "id": "1397f397",
   "metadata": {},
   "outputs": [],
   "source": [
    "import re\n",
    "\n",
    "feature_names = get_feature_names(preprocessor)\n",
    "cleaned_feature_names = [re.split('__', name, 1)[1] for name in feature_names]\n",
    "top_n = len(cleaned_feature_names)\n",
    "sorted_feature_names = [cleaned_feature_names[i] for i in indices[:top_n]]"
   ]
  },
  {
   "cell_type": "code",
   "execution_count": 53,
   "id": "e8d2a07d",
   "metadata": {},
   "outputs": [
    {
     "data": {
      "image/png": "[encoded data removed]",
      "text/plain": [
       "<Figure size 1000x600 with 1 Axes>"
      ]
     },
     "metadata": {},
     "output_type": "display_data"
    }
   ],
   "source": [
    "plt.figure(figsize=(10, 6))\n",
    "plt.barh(range(top_n), feature_importances[indices[:top_n]], align=\"center\")\n",
    "plt.yticks(range(top_n), sorted_feature_names)\n",
    "plt.xlabel(\"Importance de la caractéristique\")\n",
    "plt.title(\"Importance globale des caractéristiques\")\n",
    "plt.gca().invert_yaxis()\n",
    "plt.show()"
   ]
  },
  {
   "cell_type": "markdown",
   "id": "5bd8a0b7",
   "metadata": {},
   "source": [
    "On retrouve que la feature importance de l'ENERGYSTARScore est très faible."
   ]
  },
  {
   "cell_type": "markdown",
   "id": "1e06ee49",
   "metadata": {},
   "source": [
    "Finalement, entraînons le modèle sur l'intégralité des données pour le préparer au mieux à la réaliation de prédictions sur de futures données."
   ]
  },
  {
   "cell_type": "code",
   "execution_count": 54,
   "id": "fbbbdc4c",
   "metadata": {},
   "outputs": [
    {
     "data": {
      "text/html": [
       "<style>#sk-container-id-2 {color: black;}#sk-container-id-2 pre{padding: 0;}#sk-container-id-2 div.sk-toggleable {background-color: white;}#sk-container-id-2 label.sk-toggleable__label {cursor: pointer;display: block;width: 100%;margin-bottom: 0;padding: 0.3em;box-sizing: border-box;text-align: center;}#sk-container-id-2 label.sk-toggleable__label-arrow:before {content: \"▸\";float: left;margin-right: 0.25em;color: #696969;}#sk-container-id-2 label.sk-toggleable__label-arrow:hover:before {color: black;}#sk-container-id-2 div.sk-estimator:hover label.sk-toggleable__label-arrow:before {color: black;}#sk-container-id-2 div.sk-toggleable__content {max-height: 0;max-width: 0;overflow: hidden;text-align: left;background-color: #f0f8ff;}#sk-container-id-2 div.sk-toggleable__content pre {margin: 0.2em;color: black;border-radius: 0.25em;background-color: #f0f8ff;}#sk-container-id-2 input.sk-toggleable__control:checked~div.sk-toggleable__content {max-height: 200px;max-width: 100%;overflow: auto;}#sk-container-id-2 input.sk-toggleable__control:checked~label.sk-toggleable__label-arrow:before {content: \"▾\";}#sk-container-id-2 div.sk-estimator input.sk-toggleable__control:checked~label.sk-toggleable__label {background-color: #d4ebff;}#sk-container-id-2 div.sk-label input.sk-toggleable__control:checked~label.sk-toggleable__label {background-color: #d4ebff;}#sk-container-id-2 input.sk-hidden--visually {border: 0;clip: rect(1px 1px 1px 1px);clip: rect(1px, 1px, 1px, 1px);height: 1px;margin: -1px;overflow: hidden;padding: 0;position: absolute;width: 1px;}#sk-container-id-2 div.sk-estimator {font-family: monospace;background-color: #f0f8ff;border: 1px dotted black;border-radius: 0.25em;box-sizing: border-box;margin-bottom: 0.5em;}#sk-container-id-2 div.sk-estimator:hover {background-color: #d4ebff;}#sk-container-id-2 div.sk-parallel-item::after {content: \"\";width: 100%;border-bottom: 1px solid gray;flex-grow: 1;}#sk-container-id-2 div.sk-label:hover label.sk-toggleable__label {background-color: #d4ebff;}#sk-container-id-2 div.sk-serial::before {content: \"\";position: absolute;border-left: 1px solid gray;box-sizing: border-box;top: 0;bottom: 0;left: 50%;z-index: 0;}#sk-container-id-2 div.sk-serial {display: flex;flex-direction: column;align-items: center;background-color: white;padding-right: 0.2em;padding-left: 0.2em;position: relative;}#sk-container-id-2 div.sk-item {position: relative;z-index: 1;}#sk-container-id-2 div.sk-parallel {display: flex;align-items: stretch;justify-content: center;background-color: white;position: relative;}#sk-container-id-2 div.sk-item::before, #sk-container-id-2 div.sk-parallel-item::before {content: \"\";position: absolute;border-left: 1px solid gray;box-sizing: border-box;top: 0;bottom: 0;left: 50%;z-index: -1;}#sk-container-id-2 div.sk-parallel-item {display: flex;flex-direction: column;z-index: 1;position: relative;background-color: white;}#sk-container-id-2 div.sk-parallel-item:first-child::after {align-self: flex-end;width: 50%;}#sk-container-id-2 div.sk-parallel-item:last-child::after {align-self: flex-start;width: 50%;}#sk-container-id-2 div.sk-parallel-item:only-child::after {width: 0;}#sk-container-id-2 div.sk-dashed-wrapped {border: 1px dashed gray;margin: 0 0.4em 0.5em 0.4em;box-sizing: border-box;padding-bottom: 0.4em;background-color: white;}#sk-container-id-2 div.sk-label label {font-family: monospace;font-weight: bold;display: inline-block;line-height: 1.2em;}#sk-container-id-2 div.sk-label-container {text-align: center;}#sk-container-id-2 div.sk-container {/* jupyter's `normalize.less` sets `[hidden] { display: none; }` but bootstrap.min.css set `[hidden] { display: none !important; }` so we also need the `!important` here to be able to override the default hidden behavior on the sphinx rendered scikit-learn.org. See: https://github.com/scikit-learn/scikit-learn/issues/21755 */display: inline-block !important;position: relative;}#sk-container-id-2 div.sk-text-repr-fallback {display: none;}</style><div id=\"sk-container-id-2\" class=\"sk-top-container\"><div class=\"sk-text-repr-fallback\"><pre>Pipeline(steps=[(&#x27;preprocessor&#x27;,\n",
       "                 ColumnTransformer(transformers=[(&#x27;median_imputer&#x27;,\n",
       "                                                  Pipeline(steps=[(&#x27;simpleimputer&#x27;,\n",
       "                                                                   SimpleImputer(strategy=&#x27;median&#x27;)),\n",
       "                                                                  (&#x27;robustscaler&#x27;,\n",
       "                                                                   RobustScaler())]),\n",
       "                                                  [&#x27;PropertyGFATotal&#x27;,\n",
       "                                                   &#x27;PropertyGFABuilding(s)&#x27;,\n",
       "                                                   &#x27;Longitude&#x27;, &#x27;Latitude&#x27;,\n",
       "                                                   &#x27;LargestPropertyUseTypeGFA&#x27;,\n",
       "                                                   &#x27;ENERGYSTARScore&#x27;]),\n",
       "                                                 (&#x27;zero_filler&#x27;,\n",
       "                                                  Pipeline(steps=[(&#x27;simpleimputer&#x27;,\n",
       "                                                                   Sim...\n",
       "                                                  Pipeline(steps=[(&#x27;simpleimputer&#x27;,\n",
       "                                                                   SimpleImputer(fill_value=&#x27;None&#x27;,\n",
       "                                                                                 strategy=&#x27;constant&#x27;)),\n",
       "                                                                  (&#x27;targetencoder&#x27;,\n",
       "                                                                   TargetEncoder()),\n",
       "                                                                  (&#x27;robustscaler&#x27;,\n",
       "                                                                   RobustScaler())]),\n",
       "                                                  [&#x27;PrimaryPropertyType&#x27;,\n",
       "                                                   &#x27;CouncilDistrictCode&#x27;,\n",
       "                                                   &#x27;NumberofFloors&#x27;,\n",
       "                                                   &#x27;NumberofBuildings&#x27;,\n",
       "                                                   &#x27;LargestPropertyUseType&#x27;,\n",
       "                                                   &#x27;SecondLargestPropertyUseType&#x27;])])),\n",
       "                (&#x27;model&#x27;,\n",
       "                 GradientBoostingRegressor(learning_rate=0.2,\n",
       "                                           n_estimators=1000))])</pre><b>In a Jupyter environment, please rerun this cell to show the HTML representation or trust the notebook. <br />On GitHub, the HTML representation is unable to render, please try loading this page with nbviewer.org.</b></div><div class=\"sk-container\" hidden><div class=\"sk-item sk-dashed-wrapped\"><div class=\"sk-label-container\"><div class=\"sk-label sk-toggleable\"><input class=\"sk-toggleable__control sk-hidden--visually\" id=\"sk-estimator-id-14\" type=\"checkbox\" ><label for=\"sk-estimator-id-14\" class=\"sk-toggleable__label sk-toggleable__label-arrow\">Pipeline</label><div class=\"sk-toggleable__content\"><pre>Pipeline(steps=[(&#x27;preprocessor&#x27;,\n",
       "                 ColumnTransformer(transformers=[(&#x27;median_imputer&#x27;,\n",
       "                                                  Pipeline(steps=[(&#x27;simpleimputer&#x27;,\n",
       "                                                                   SimpleImputer(strategy=&#x27;median&#x27;)),\n",
       "                                                                  (&#x27;robustscaler&#x27;,\n",
       "                                                                   RobustScaler())]),\n",
       "                                                  [&#x27;PropertyGFATotal&#x27;,\n",
       "                                                   &#x27;PropertyGFABuilding(s)&#x27;,\n",
       "                                                   &#x27;Longitude&#x27;, &#x27;Latitude&#x27;,\n",
       "                                                   &#x27;LargestPropertyUseTypeGFA&#x27;,\n",
       "                                                   &#x27;ENERGYSTARScore&#x27;]),\n",
       "                                                 (&#x27;zero_filler&#x27;,\n",
       "                                                  Pipeline(steps=[(&#x27;simpleimputer&#x27;,\n",
       "                                                                   Sim...\n",
       "                                                  Pipeline(steps=[(&#x27;simpleimputer&#x27;,\n",
       "                                                                   SimpleImputer(fill_value=&#x27;None&#x27;,\n",
       "                                                                                 strategy=&#x27;constant&#x27;)),\n",
       "                                                                  (&#x27;targetencoder&#x27;,\n",
       "                                                                   TargetEncoder()),\n",
       "                                                                  (&#x27;robustscaler&#x27;,\n",
       "                                                                   RobustScaler())]),\n",
       "                                                  [&#x27;PrimaryPropertyType&#x27;,\n",
       "                                                   &#x27;CouncilDistrictCode&#x27;,\n",
       "                                                   &#x27;NumberofFloors&#x27;,\n",
       "                                                   &#x27;NumberofBuildings&#x27;,\n",
       "                                                   &#x27;LargestPropertyUseType&#x27;,\n",
       "                                                   &#x27;SecondLargestPropertyUseType&#x27;])])),\n",
       "                (&#x27;model&#x27;,\n",
       "                 GradientBoostingRegressor(learning_rate=0.2,\n",
       "                                           n_estimators=1000))])</pre></div></div></div><div class=\"sk-serial\"><div class=\"sk-item sk-dashed-wrapped\"><div class=\"sk-label-container\"><div class=\"sk-label sk-toggleable\"><input class=\"sk-toggleable__control sk-hidden--visually\" id=\"sk-estimator-id-15\" type=\"checkbox\" ><label for=\"sk-estimator-id-15\" class=\"sk-toggleable__label sk-toggleable__label-arrow\">preprocessor: ColumnTransformer</label><div class=\"sk-toggleable__content\"><pre>ColumnTransformer(transformers=[(&#x27;median_imputer&#x27;,\n",
       "                                 Pipeline(steps=[(&#x27;simpleimputer&#x27;,\n",
       "                                                  SimpleImputer(strategy=&#x27;median&#x27;)),\n",
       "                                                 (&#x27;robustscaler&#x27;,\n",
       "                                                  RobustScaler())]),\n",
       "                                 [&#x27;PropertyGFATotal&#x27;, &#x27;PropertyGFABuilding(s)&#x27;,\n",
       "                                  &#x27;Longitude&#x27;, &#x27;Latitude&#x27;,\n",
       "                                  &#x27;LargestPropertyUseTypeGFA&#x27;,\n",
       "                                  &#x27;ENERGYSTARScore&#x27;]),\n",
       "                                (&#x27;zero_filler&#x27;,\n",
       "                                 Pipeline(steps=[(&#x27;simpleimputer&#x27;,\n",
       "                                                  SimpleImputer(fill_value=0,\n",
       "                                                                strategy...\n",
       "                                  &#x27;SecondLargestPropertyUseTypeGFA&#x27;]),\n",
       "                                (&#x27;target_encoder&#x27;,\n",
       "                                 Pipeline(steps=[(&#x27;simpleimputer&#x27;,\n",
       "                                                  SimpleImputer(fill_value=&#x27;None&#x27;,\n",
       "                                                                strategy=&#x27;constant&#x27;)),\n",
       "                                                 (&#x27;targetencoder&#x27;,\n",
       "                                                  TargetEncoder()),\n",
       "                                                 (&#x27;robustscaler&#x27;,\n",
       "                                                  RobustScaler())]),\n",
       "                                 [&#x27;PrimaryPropertyType&#x27;, &#x27;CouncilDistrictCode&#x27;,\n",
       "                                  &#x27;NumberofFloors&#x27;, &#x27;NumberofBuildings&#x27;,\n",
       "                                  &#x27;LargestPropertyUseType&#x27;,\n",
       "                                  &#x27;SecondLargestPropertyUseType&#x27;])])</pre></div></div></div><div class=\"sk-parallel\"><div class=\"sk-parallel-item\"><div class=\"sk-item\"><div class=\"sk-label-container\"><div class=\"sk-label sk-toggleable\"><input class=\"sk-toggleable__control sk-hidden--visually\" id=\"sk-estimator-id-16\" type=\"checkbox\" ><label for=\"sk-estimator-id-16\" class=\"sk-toggleable__label sk-toggleable__label-arrow\">median_imputer</label><div class=\"sk-toggleable__content\"><pre>[&#x27;PropertyGFATotal&#x27;, &#x27;PropertyGFABuilding(s)&#x27;, &#x27;Longitude&#x27;, &#x27;Latitude&#x27;, &#x27;LargestPropertyUseTypeGFA&#x27;, &#x27;ENERGYSTARScore&#x27;]</pre></div></div></div><div class=\"sk-serial\"><div class=\"sk-item\"><div class=\"sk-serial\"><div class=\"sk-item\"><div class=\"sk-estimator sk-toggleable\"><input class=\"sk-toggleable__control sk-hidden--visually\" id=\"sk-estimator-id-17\" type=\"checkbox\" ><label for=\"sk-estimator-id-17\" class=\"sk-toggleable__label sk-toggleable__label-arrow\">SimpleImputer</label><div class=\"sk-toggleable__content\"><pre>SimpleImputer(strategy=&#x27;median&#x27;)</pre></div></div></div><div class=\"sk-item\"><div class=\"sk-estimator sk-toggleable\"><input class=\"sk-toggleable__control sk-hidden--visually\" id=\"sk-estimator-id-18\" type=\"checkbox\" ><label for=\"sk-estimator-id-18\" class=\"sk-toggleable__label sk-toggleable__label-arrow\">RobustScaler</label><div class=\"sk-toggleable__content\"><pre>RobustScaler()</pre></div></div></div></div></div></div></div></div><div class=\"sk-parallel-item\"><div class=\"sk-item\"><div class=\"sk-label-container\"><div class=\"sk-label sk-toggleable\"><input class=\"sk-toggleable__control sk-hidden--visually\" id=\"sk-estimator-id-19\" type=\"checkbox\" ><label for=\"sk-estimator-id-19\" class=\"sk-toggleable__label sk-toggleable__label-arrow\">zero_filler</label><div class=\"sk-toggleable__content\"><pre>[&#x27;GasRatio&#x27;, &#x27;ElectricityRatio&#x27;, &#x27;SteamRatio&#x27;, &#x27;SecondLargestPropertyUseTypeGFA&#x27;]</pre></div></div></div><div class=\"sk-serial\"><div class=\"sk-item\"><div class=\"sk-serial\"><div class=\"sk-item\"><div class=\"sk-estimator sk-toggleable\"><input class=\"sk-toggleable__control sk-hidden--visually\" id=\"sk-estimator-id-20\" type=\"checkbox\" ><label for=\"sk-estimator-id-20\" class=\"sk-toggleable__label sk-toggleable__label-arrow\">SimpleImputer</label><div class=\"sk-toggleable__content\"><pre>SimpleImputer(fill_value=0, strategy=&#x27;constant&#x27;)</pre></div></div></div><div class=\"sk-item\"><div class=\"sk-estimator sk-toggleable\"><input class=\"sk-toggleable__control sk-hidden--visually\" id=\"sk-estimator-id-21\" type=\"checkbox\" ><label for=\"sk-estimator-id-21\" class=\"sk-toggleable__label sk-toggleable__label-arrow\">RobustScaler</label><div class=\"sk-toggleable__content\"><pre>RobustScaler()</pre></div></div></div></div></div></div></div></div><div class=\"sk-parallel-item\"><div class=\"sk-item\"><div class=\"sk-label-container\"><div class=\"sk-label sk-toggleable\"><input class=\"sk-toggleable__control sk-hidden--visually\" id=\"sk-estimator-id-22\" type=\"checkbox\" ><label for=\"sk-estimator-id-22\" class=\"sk-toggleable__label sk-toggleable__label-arrow\">target_encoder</label><div class=\"sk-toggleable__content\"><pre>[&#x27;PrimaryPropertyType&#x27;, &#x27;CouncilDistrictCode&#x27;, &#x27;NumberofFloors&#x27;, &#x27;NumberofBuildings&#x27;, &#x27;LargestPropertyUseType&#x27;, &#x27;SecondLargestPropertyUseType&#x27;]</pre></div></div></div><div class=\"sk-serial\"><div class=\"sk-item\"><div class=\"sk-serial\"><div class=\"sk-item\"><div class=\"sk-estimator sk-toggleable\"><input class=\"sk-toggleable__control sk-hidden--visually\" id=\"sk-estimator-id-23\" type=\"checkbox\" ><label for=\"sk-estimator-id-23\" class=\"sk-toggleable__label sk-toggleable__label-arrow\">SimpleImputer</label><div class=\"sk-toggleable__content\"><pre>SimpleImputer(fill_value=&#x27;None&#x27;, strategy=&#x27;constant&#x27;)</pre></div></div></div><div class=\"sk-item\"><div class=\"sk-estimator sk-toggleable\"><input class=\"sk-toggleable__control sk-hidden--visually\" id=\"sk-estimator-id-24\" type=\"checkbox\" ><label for=\"sk-estimator-id-24\" class=\"sk-toggleable__label sk-toggleable__label-arrow\">TargetEncoder</label><div class=\"sk-toggleable__content\"><pre>TargetEncoder()</pre></div></div></div><div class=\"sk-item\"><div class=\"sk-estimator sk-toggleable\"><input class=\"sk-toggleable__control sk-hidden--visually\" id=\"sk-estimator-id-25\" type=\"checkbox\" ><label for=\"sk-estimator-id-25\" class=\"sk-toggleable__label sk-toggleable__label-arrow\">RobustScaler</label><div class=\"sk-toggleable__content\"><pre>RobustScaler()</pre></div></div></div></div></div></div></div></div></div></div><div class=\"sk-item\"><div class=\"sk-estimator sk-toggleable\"><input class=\"sk-toggleable__control sk-hidden--visually\" id=\"sk-estimator-id-26\" type=\"checkbox\" ><label for=\"sk-estimator-id-26\" class=\"sk-toggleable__label sk-toggleable__label-arrow\">GradientBoostingRegressor</label><div class=\"sk-toggleable__content\"><pre>GradientBoostingRegressor(learning_rate=0.2, n_estimators=1000)</pre></div></div></div></div></div></div></div>"
      ],
      "text/plain": [
       "Pipeline(steps=[('preprocessor',\n",
       "                 ColumnTransformer(transformers=[('median_imputer',\n",
       "                                                  Pipeline(steps=[('simpleimputer',\n",
       "                                                                   SimpleImputer(strategy='median')),\n",
       "                                                                  ('robustscaler',\n",
       "                                                                   RobustScaler())]),\n",
       "                                                  ['PropertyGFATotal',\n",
       "                                                   'PropertyGFABuilding(s)',\n",
       "                                                   'Longitude', 'Latitude',\n",
       "                                                   'LargestPropertyUseTypeGFA',\n",
       "                                                   'ENERGYSTARScore']),\n",
       "                                                 ('zero_filler',\n",
       "                                                  Pipeline(steps=[('simpleimputer',\n",
       "                                                                   Sim...\n",
       "                                                  Pipeline(steps=[('simpleimputer',\n",
       "                                                                   SimpleImputer(fill_value='None',\n",
       "                                                                                 strategy='constant')),\n",
       "                                                                  ('targetencoder',\n",
       "                                                                   TargetEncoder()),\n",
       "                                                                  ('robustscaler',\n",
       "                                                                   RobustScaler())]),\n",
       "                                                  ['PrimaryPropertyType',\n",
       "                                                   'CouncilDistrictCode',\n",
       "                                                   'NumberofFloors',\n",
       "                                                   'NumberofBuildings',\n",
       "                                                   'LargestPropertyUseType',\n",
       "                                                   'SecondLargestPropertyUseType'])])),\n",
       "                ('model',\n",
       "                 GradientBoostingRegressor(learning_rate=0.2,\n",
       "                                           n_estimators=1000))])"
      ]
     },
     "execution_count": 54,
     "metadata": {},
     "output_type": "execute_result"
    }
   ],
   "source": [
    "best_model = GradientBoostingRegressor(n_estimators = 1000, learning_rate = 0.2, max_depth = 3)\n",
    "\n",
    "final_pipeline = Pipeline(steps=[\n",
    "    (\"preprocessor\", preprocessor),\n",
    "    (\"model\", best_model)\n",
    "])\n",
    "\n",
    "final_pipeline.fit(X, y)"
   ]
  }
 ],
 "metadata": {
  "kernelspec": {
   "display_name": "Python 3 (ipykernel)",
   "language": "python",
   "name": "python3"
  },
  "language_info": {
   "codemirror_mode": {
    "name": "ipython",
    "version": 3
   },
   "file_extension": ".py",
   "mimetype": "text/x-python",
   "name": "python",
   "nbconvert_exporter": "python",
   "pygments_lexer": "ipython3",
   "version": "3.11.5"
  },
  "toc": {
   "base_numbering": 1,
   "nav_menu": {},
   "number_sections": true,
   "sideBar": true,
   "skip_h1_title": false,
   "title_cell": "Table of Contents",
   "title_sidebar": "Contents",
   "toc_cell": false,
   "toc_position": {
    "height": "calc(100% - 180px)",
    "left": "10px",
    "top": "150px",
    "width": "264.933px"
   },
   "toc_section_display": true,
   "toc_window_display": false
  }
 },
 "nbformat": 4,
 "nbformat_minor": 5
}
